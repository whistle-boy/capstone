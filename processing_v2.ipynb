{
 "cells": [
  {
   "cell_type": "code",
   "execution_count": 1,
   "metadata": {},
   "outputs": [],
   "source": [
    "import os\n",
    "import numpy as np\n",
    "import pandas as pd\n",
    "import matplotlib.pyplot as plt\n",
    "from matplotlib import font_manager, rc\n",
    "%matplotlib inline\n",
    "import seaborn as sns\n",
    "# from functools import reduce\n",
    "\n",
    "# set font\n",
    "font_name = font_manager.FontProperties(\n",
    "    fname='c:/Windows/Fonts/malgun.ttf').get_name()\n",
    "rc('font', family=font_name)\n",
    "# matplotlib.rcParams['axes.unicode_minus'] = False\n",
    "sns.set(font=font_name,\n",
    "        rc={'axes.unicode_minus': False})  # to show negative sign on graphs\n",
    "\n",
    "# set option\n",
    "pd.set_option('display.max_rows', 100)\n",
    "pd.set_option('display.max_columns', 100)\n",
    "pd.set_option('display.precision', 2)"
   ]
  },
  {
   "cell_type": "code",
   "execution_count": 71,
   "metadata": {},
   "outputs": [],
   "source": [
    "# 평균기대수명 19년\n",
    "# https://www.data.go.kr/data/15039778/fileData.do\n",
    "life_exp = pd.read_csv('./data/국민건강보험공단_지역별 기대수명지표_20191231.csv', encoding='cp949')\n",
    "life_exp = life_exp.loc[(life_exp['지표연도']==2019) & (life_exp['적용기간']=='6년')] # 적용기간이 무엇을 뜻하는 것일까? 추후 확인이 필요하다.\n",
    "life_exp.to_csv('./data/life_exp_v1.csv')"
   ]
  },
  {
   "cell_type": "code",
   "execution_count": 72,
   "metadata": {},
   "outputs": [],
   "source": [
    "# 지역보건의료기관 19년\n",
    "# https://www.data.go.kr/data/3072692/fileData.do\n",
    "medic_fac = pd.read_csv('./data/보건복지부_전국 지역보건의료기관 현황_20191227.csv', encoding='cp949')\n",
    "medic_fac = medic_fac.pivot_table(index=['시도', '시군구'], columns='보건기관 유형', aggfunc='count').reset_index()\n",
    "medic_fac.columns = medic_fac.columns.droplevel(0)\n",
    "medic_fac.rename(columns={medic_fac.columns[0]:'시도', medic_fac.columns[1]:'시군구'})\n",
    "medic_fac.to_csv('./data/medic_fac_v1.csv')"
   ]
  },
  {
   "cell_type": "code",
   "execution_count": 127,
   "metadata": {},
   "outputs": [],
   "source": [
    "# 시군구 21년\n",
    "# https://www.data.go.kr/data/15070405/fileData.do\n",
    "sigungu = pd.read_csv('./data/통계청_나라통계_우편번호_20211110.csv', encoding='cp949')\n",
    "sigungu = sigungu[['도이름', '시군구이름']]\n",
    "sigungu = sigungu.drop_duplicates()\n",
    "sigungu.to_csv('./data/sigungu_v1.csv')"
   ]
  },
  {
   "cell_type": "code",
   "execution_count": 101,
   "metadata": {},
   "outputs": [],
   "source": [
    "# 질병예측 21년\n",
    "# https://www.data.go.kr/data/15083145/fileData.do\n",
    "## 감기\n",
    "flu = pd.read_csv('data/국민건강보험공단 질병예측 정보_20210630/진료정보_감기_시군구.csv', encoding='cp949')\n",
    "flu.rename(columns={'발생건수(건)':file[36:-8]+'발생건수'})\n",
    "flu.to_csv('./data/flu_v1.csv')\n",
    "## 눈병\n",
    "eye_tr = pd.read_csv('data/국민건강보험공단 질병예측 정보_20210630/진료정보_눈병_시군구.csv', encoding='cp949')\n",
    "eye_tr.rename(columns={'발생건수(건)':file[36:-8]+'발생건수'})\n",
    "eye_tr.to_csv('./data/eye_tr_v1.csv')\n",
    "## 천식\n",
    "asthma = pd.read_csv('data/국민건강보험공단 질병예측 정보_20210630/진료정보_천식_시군구.csv', encoding='cp949')\n",
    "asthma.rename(columns={'발생건수(건)':file[36:-8]+'발생건수'})\n",
    "asthma.to_csv('./data/asthma_v1.csv')\n",
    "## 피부염\n",
    "derma = pd.read_csv('data/국민건강보험공단 질병예측 정보_20210630/진료정보_피부염_시군구.csv', encoding='cp949')\n",
    "derma.rename(columns={'발생건수(건)':file[36:-8]+'발생건수'})\n",
    "derma.to_csv('./data/derma_v1.csv')"
   ]
  },
  {
   "cell_type": "code",
   "execution_count": 108,
   "metadata": {},
   "outputs": [],
   "source": [
    "# 진료내역정보\n",
    "# https://www.data.go.kr/data/15007115/fileData.do\n",
    "# pd.read_csv('C:/Users/joon9/OneDrive/문서/capstone/data/국민건강보험공단_진료내역정보_20211228/HP_T20_2020_1.csv', encoding='cp949')"
   ]
  },
  {
   "cell_type": "code",
   "execution_count": 109,
   "metadata": {},
   "outputs": [],
   "source": [
    "# 건강검진\n",
    "# https://www.data.go.kr/data/15007122/fileData.do\n",
    "# pd.read_csv('C:/Users/joon9/OneDrive/문서/capstone/data/국민건강보험공단_건강검진정보_20211229.csv', encoding='cp949')"
   ]
  },
  {
   "cell_type": "code",
   "execution_count": 128,
   "metadata": {},
   "outputs": [],
   "source": [
    "# 범죄발생\n",
    "# https://www.data.go.kr/data/3074462/fileData.do\n",
    "crime = pd.read_csv('./data/경찰청_범죄 발생 지역별 통계_20151231.csv', encoding='cp949')\n",
    "crime = crime.pivot_table(columns='범죄대분류', aggfunc=sum)\n",
    "crime.to_csv('./data/crime_v1.csv')"
   ]
  },
  {
   "cell_type": "code",
   "execution_count": 136,
   "metadata": {},
   "outputs": [],
   "source": [
    "# 범죄발생2\n",
    "# https://www.data.go.kr/data/15085726/fileData.do\n",
    "crime2 = pd.read_csv('./data/대검찰청_범죄발생지_20181231.csv', encoding='cp949')\n",
    "crime2.to_csv('./data/crime_v2.csv')"
   ]
  },
  {
   "cell_type": "code",
   "execution_count": 138,
   "metadata": {},
   "outputs": [],
   "source": [
    "# 전월세 22년\n",
    "# https://kosis.kr/\n",
    "rent = pd.read_csv('./data/전월세통합지수_20220329223136.csv', encoding='cp949')\n",
    "rent.to_csv('./data/rent_v1.csv')"
   ]
  },
  {
   "cell_type": "code",
   "execution_count": 139,
   "metadata": {},
   "outputs": [],
   "source": [
    "# 상가 21년\n",
    "import os\n",
    "files = []\n",
    "for file in os.listdir('data/소상공인시장진흥공단_상가(상권)정보_20211231'):\n",
    "    if file.endswith('.csv'):\n",
    "        file = os.path.join(\n",
    "            'data/소상공인시장진흥공단_상가(상권)정보_20211231', file)\n",
    "        files.append(file)\n",
    "store = pd.DataFrame()\n",
    "for file in files:\n",
    "    temp = pd.read_csv(file, low_memory=False)\n",
    "    store = pd.concat([store, temp], axis=0, ignore_index=True)\n",
    "store.to_csv('./data/store_v1.csv')"
   ]
  },
  {
   "cell_type": "code",
   "execution_count": null,
   "metadata": {},
   "outputs": [
    {
     "data": {
      "text/html": [
       "<div>\n",
       "<style scoped>\n",
       "    .dataframe tbody tr th:only-of-type {\n",
       "        vertical-align: middle;\n",
       "    }\n",
       "\n",
       "    .dataframe tbody tr th {\n",
       "        vertical-align: top;\n",
       "    }\n",
       "\n",
       "    .dataframe thead th {\n",
       "        text-align: right;\n",
       "    }\n",
       "</style>\n",
       "<table border=\"1\" class=\"dataframe\">\n",
       "  <thead>\n",
       "    <tr style=\"text-align: right;\">\n",
       "      <th></th>\n",
       "      <th>날짜</th>\n",
       "      <th>시군구지역코드</th>\n",
       "      <th>피부염발생건수</th>\n",
       "    </tr>\n",
       "  </thead>\n",
       "  <tbody>\n",
       "    <tr>\n",
       "      <th>0</th>\n",
       "      <td>20140101</td>\n",
       "      <td>11110</td>\n",
       "      <td>4</td>\n",
       "    </tr>\n",
       "    <tr>\n",
       "      <th>1</th>\n",
       "      <td>20140101</td>\n",
       "      <td>11140</td>\n",
       "      <td>3</td>\n",
       "    </tr>\n",
       "    <tr>\n",
       "      <th>2</th>\n",
       "      <td>20140101</td>\n",
       "      <td>11170</td>\n",
       "      <td>2</td>\n",
       "    </tr>\n",
       "    <tr>\n",
       "      <th>3</th>\n",
       "      <td>20140101</td>\n",
       "      <td>11200</td>\n",
       "      <td>7</td>\n",
       "    </tr>\n",
       "    <tr>\n",
       "      <th>4</th>\n",
       "      <td>20140101</td>\n",
       "      <td>11215</td>\n",
       "      <td>5</td>\n",
       "    </tr>\n",
       "    <tr>\n",
       "      <th>...</th>\n",
       "      <td>...</td>\n",
       "      <td>...</td>\n",
       "      <td>...</td>\n",
       "    </tr>\n",
       "    <tr>\n",
       "      <th>686605</th>\n",
       "      <td>20210630</td>\n",
       "      <td>48870</td>\n",
       "      <td>45</td>\n",
       "    </tr>\n",
       "    <tr>\n",
       "      <th>686606</th>\n",
       "      <td>20210630</td>\n",
       "      <td>48880</td>\n",
       "      <td>78</td>\n",
       "    </tr>\n",
       "    <tr>\n",
       "      <th>686607</th>\n",
       "      <td>20210630</td>\n",
       "      <td>48890</td>\n",
       "      <td>46</td>\n",
       "    </tr>\n",
       "    <tr>\n",
       "      <th>686608</th>\n",
       "      <td>20210630</td>\n",
       "      <td>49110</td>\n",
       "      <td>567</td>\n",
       "    </tr>\n",
       "    <tr>\n",
       "      <th>686609</th>\n",
       "      <td>20210630</td>\n",
       "      <td>49130</td>\n",
       "      <td>219</td>\n",
       "    </tr>\n",
       "  </tbody>\n",
       "</table>\n",
       "<p>686610 rows × 3 columns</p>\n",
       "</div>"
      ],
      "text/plain": [
       "              날짜  시군구지역코드  피부염발생건수\n",
       "0       20140101    11110        4\n",
       "1       20140101    11140        3\n",
       "2       20140101    11170        2\n",
       "3       20140101    11200        7\n",
       "4       20140101    11215        5\n",
       "...          ...      ...      ...\n",
       "686605  20210630    48870       45\n",
       "686606  20210630    48880       78\n",
       "686607  20210630    48890       46\n",
       "686608  20210630    49110      567\n",
       "686609  20210630    49130      219\n",
       "\n",
       "[686610 rows x 3 columns]"
      ]
     },
     "metadata": {},
     "output_type": "display_data"
    }
   ],
   "source": [
    "# def sido(series):\n",
    "#     시도명 = {\n",
    "#         '인천':'인천광역시',\n",
    "#         '충남':'충청남도',\n",
    "#         '경기':'경기도',\n",
    "#         '대전':'대전광역시',\n",
    "#         '경남':'경상남도',\n",
    "#         '서울':'서울특별시',\n",
    "#         '전남':'전라남도',\n",
    "#         '전북':'전라북도',\n",
    "#         '제주':'제주특별자치도',\n",
    "#         '부산':'부산광역시',\n",
    "#         '광주':'광주광역시',\n",
    "#         '울산':'울산광역시',\n",
    "#         '경북':'경상북도',\n",
    "#         '충북':'충청북도',\n",
    "#         '대구':'대구광역시',\n",
    "#         '강원':'강원도',\n",
    "#         }\n",
    "#     for i in 시도명.keys():\n",
    "#         df.loc[df['시도명']==i, '시도명'] = 시도명[i]\n"
   ]
  }
 ],
 "metadata": {
  "interpreter": {
   "hash": "656a610cf7529c094650ddc82c723fb6eadfe6af02f42af438dd409fb1ebbdba"
  },
  "kernelspec": {
   "display_name": "Python 3.9.7 ('base')",
   "language": "python",
   "name": "python3"
  },
  "language_info": {
   "codemirror_mode": {
    "name": "ipython",
    "version": 3
   },
   "file_extension": ".py",
   "mimetype": "text/x-python",
   "name": "python",
   "nbconvert_exporter": "python",
   "pygments_lexer": "ipython3",
   "version": "3.9.7"
  },
  "orig_nbformat": 4
 },
 "nbformat": 4,
 "nbformat_minor": 2
}
